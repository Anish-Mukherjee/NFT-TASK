{
  "nbformat": 4,
  "nbformat_minor": 0,
  "metadata": {
    "colab": {
      "name": "NFT COLLECTION.ipynb",
      "provenance": [],
      "collapsed_sections": []
    },
    "kernelspec": {
      "name": "python3",
      "display_name": "Python 3"
    },
    "language_info": {
      "name": "python"
    }
  },
  "cells": [
    {
      "cell_type": "markdown",
      "source": [
        "you have been given the background image"
      ],
      "metadata": {
        "id": "zjJcRizQxBC5"
      }
    },
    {
      "cell_type": "markdown",
      "source": [
        "you have to layer the shirt image on top of the background image "
      ],
      "metadata": {
        "id": "KzSyGVMXxBO6"
      }
    },
    {
      "cell_type": "code",
      "source": [
        ""
      ],
      "metadata": {
        "id": "8cWXSSlklHDF"
      },
      "execution_count": null,
      "outputs": []
    },
    {
      "cell_type": "markdown",
      "source": [
        "the shirt image has a probability of 50 percent meaning you have to generate two images one will have the shirt and the other will not have it meaning it is the same as the original background image \n",
        "Hint: take a transparent image of the same pixel size and make that have a 50% chance of occuring in the image "
      ],
      "metadata": {
        "id": "X9W27CFzxBXP"
      }
    },
    {
      "cell_type": "code",
      "source": [
        ""
      ],
      "metadata": {
        "id": "Z8XF8laKlHxs"
      },
      "execution_count": null,
      "outputs": []
    },
    {
      "cell_type": "markdown",
      "source": [
        "you have also been given a hat and a bandana\n",
        "you have to resize these pngs and then add them to the bottom left cornor of the background image \n",
        "resize according to your convinence\n"
      ],
      "metadata": {
        "id": "zQv3Um3KxBcY"
      }
    },
    {
      "cell_type": "code",
      "source": [
        ""
      ],
      "metadata": {
        "id": "B3W2QfJslIRv"
      },
      "execution_count": null,
      "outputs": []
    },
    {
      "cell_type": "markdown",
      "source": [
        "both bandana and the hat has a 50 percent chance of occurence so take care of that .\n",
        "meaning that all the final images will either have a bandana or a hat."
      ],
      "metadata": {
        "id": "F_vaK9JxxBjD"
      }
    },
    {
      "cell_type": "code",
      "source": [
        ""
      ],
      "metadata": {
        "id": "Nrlh_1G8lJCb"
      },
      "execution_count": null,
      "outputs": []
    },
    {
      "cell_type": "markdown",
      "source": [
        "the shirt and the transparent image are a group called the \"Body\" and the bandana and hat are of a group called \"head\"\n",
        "\n",
        "every image will have a head and a body feature\n",
        "you have to generate 4 images from code as \n",
        "\n",
        "one with bandana and shirt\n",
        "one with only bandana\n",
        "one with hat and shirt\n",
        "one with only shirt"
      ],
      "metadata": {
        "id": "90Va4oO8lE8B"
      }
    },
    {
      "cell_type": "code",
      "source": [
        ""
      ],
      "metadata": {
        "id": "p9Ox3RIrly7g"
      },
      "execution_count": null,
      "outputs": []
    },
    {
      "cell_type": "markdown",
      "source": [
        "you have to also create a metadata folder of JSON format as follows:\n",
        "[\n",
        "  {\n",
        "    \"Head\": \"Bandana\",\n",
        "    \"Body\": \"None\",\n",
        "    \"tokenId\": 0\n",
        "  },\n",
        "  {\n",
        "    \"Head\": \"Hat\",\n",
        "    \"Body\": \"Shirt\"\n",
        "    \"tokenId\" : 1\n",
        "  }\n",
        "]\n",
        "\n",
        "\n",
        "![metadataexm.png](data:image/png;base64,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)"
      ],
      "metadata": {
        "id": "PDFc3aIolzK2"
      }
    },
    {
      "cell_type": "code",
      "source": [
        ""
      ],
      "metadata": {
        "id": "Z7tyAvAdm2qt"
      },
      "execution_count": null,
      "outputs": []
    },
    {
      "cell_type": "markdown",
      "source": [
        "sumbit the IPYNB file and the images generated "
      ],
      "metadata": {
        "id": "ODc8QwzHm3Sv"
      }
    }
  ]
}